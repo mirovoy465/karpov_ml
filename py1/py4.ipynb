{
 "cells": [
  {
   "cell_type": "markdown",
   "metadata": {},
   "source": [
    "Установите jupyter у себя на компьютере. Откройте его, затем создайте ноутбук.\n",
    "В ноутбуке создайте несколько ячеек: с markdown-разметкой и с кодом. \n",
    "В markdown-ячейке воспользуйтесь синтаксисом для **полужирного** текста, *курсива* и ```monospace```. \n"
   ]
  },
  {
   "cell_type": "markdown",
   "metadata": {},
   "source": [
    "Реализуйте скалярное произведение двух векторов размера 1e5 через цикл for в ноутбуке и замерьте скорость выполнения кода с использованием магической команды %%timeit. Используйте для быстрой генерации вектора такой трюк: vec1 = list(range(int(1e5)))."
   ]
  },
  {
   "cell_type": "code",
   "execution_count": 4,
   "metadata": {},
   "outputs": [
    {
     "name": "stdout",
     "output_type": "stream",
     "text": [
      "7.82 ms ± 52.5 µs per loop (mean ± std. dev. of 7 runs, 100 loops each)\n"
     ]
    }
   ],
   "source": [
    "vec1 = list(range(int(1e5)))\n",
    "vec2 = list(range(int(1e5)))\n",
    "def scalar(vec1, vec2):\n",
    "    res = []\n",
    "    for i in range(len(vec1)):\n",
    "        res.append(vec1[i] * vec2[i])\n",
    "    return res\n",
    "%timeit scalar(vec1, vec2)"
   ]
  },
  {
   "cell_type": "code",
   "execution_count": 3,
   "metadata": {},
   "outputs": [
    {
     "name": "stdout",
     "output_type": "stream",
     "text": [
      "8.31 ms ± 79.5 µs per loop (mean ± std. dev. of 7 runs, 100 loops each)\n"
     ]
    }
   ],
   "source": [
    "%timeit scalar(vec1, vec2)"
   ]
  }
 ],
 "metadata": {
  "kernelspec": {
   "display_name": ".venv",
   "language": "python",
   "name": "python3"
  },
  "language_info": {
   "codemirror_mode": {
    "name": "ipython",
    "version": 3
   },
   "file_extension": ".py",
   "mimetype": "text/x-python",
   "name": "python",
   "nbconvert_exporter": "python",
   "pygments_lexer": "ipython3",
   "version": "3.12.3"
  }
 },
 "nbformat": 4,
 "nbformat_minor": 2
}
